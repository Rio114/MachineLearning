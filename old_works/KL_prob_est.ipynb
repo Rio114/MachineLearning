{
 "cells": [
  {
   "cell_type": "markdown",
   "metadata": {},
   "source": [
    "カルバック・ライブラー密度比推定の交差確認\n",
    "\n",
    "2次元正規分布データを2セット用意して片方に異常値を挿入し、その異常値をカルバック・ライブラー密度比推定により検出する。\n",
    "\n",
    "参考：\n",
    "異常検知と変化検知　井出剛・杉山将著　P152"
   ]
  },
  {
   "cell_type": "code",
   "execution_count": 1,
   "metadata": {},
   "outputs": [],
   "source": [
    "import numpy as np\n",
    "import pandas as pd\n",
    "from matplotlib import pyplot as plt\n",
    "import seaborn as sns\n",
    "%matplotlib inline"
   ]
  },
  {
   "cell_type": "code",
   "execution_count": 2,
   "metadata": {},
   "outputs": [],
   "source": [
    "data_dim = 100 #データの次元\n",
    "\n",
    "mu = 0.01 #学習の乗数\n",
    "\n",
    "num = 5 #データの分割数\n",
    "train_dim = data_dim-int(data_dim/num)\n",
    "\n",
    "#正規分布で2次元データを生成\n",
    "data_x = np.random.normal(1, 1, data_dim*2)\n",
    "data_y = np.random.normal(3, 0.5, data_dim*2)\n",
    "data = np.c_[data_x, data_y]\n",
    "\n",
    "#データを2分割し、片方に異常値を紛れ込ませる\n",
    "normal_data = data[0:data_dim]\n",
    "abnormal_data = data[data_dim:data_dim*2]\n",
    "abnormal_data[data_dim-1] = [4, 5]\n",
    "\n",
    "#RBF関数のバンド幅を複数用意する\n",
    "num_w = 10\n",
    "width = np.array([0.01, 0.03, 0.05, 0.08, 0.1, 0.3, 0.5, 0.8, 1, 1.3])"
   ]
  },
  {
   "cell_type": "code",
   "execution_count": 3,
   "metadata": {},
   "outputs": [
    {
     "data": {
      "text/plain": [
       "<matplotlib.collections.PathCollection at 0x228b863cda0>"
      ]
     },
     "execution_count": 3,
     "metadata": {},
     "output_type": "execute_result"
    },
    {
     "data": {
      "image/png": "[encoded data removed]",
      "text/plain": [
       "<matplotlib.figure.Figure at 0x228b856c470>"
      ]
     },
     "metadata": {},
     "output_type": "display_data"
    }
   ],
   "source": [
    "#異常値を含むデータのプロット\n",
    "plt.scatter(abnormal_data[:, 0],abnormal_data[:, 1])"
   ]
  },
  {
   "cell_type": "code",
   "execution_count": 4,
   "metadata": {},
   "outputs": [],
   "source": [
    "#RBF関数：x, yは同じ次元のベクトル、hはスカラー\n",
    "def rbf(x,y,h): \n",
    "    return np.exp(-np.linalg.norm(x-y)**2/2/h**2)"
   ]
  },
  {
   "cell_type": "code",
   "execution_count": 5,
   "metadata": {},
   "outputs": [],
   "source": [
    "#RBF関数を用いた確率密度比：xとy[b]は同じ次元のベクトル\n",
    "def prob_ratio(theta,x,y,h): \n",
    "    out = 0\n",
    "    for b in range(len(y)): \n",
    "        out += theta[b] * rbf(x,y[b],h)\n",
    "    return out"
   ]
  },
  {
   "cell_type": "code",
   "execution_count": 6,
   "metadata": {},
   "outputs": [],
   "source": [
    "#Closs validationのためデータを分割する。レコード数を2次元にして一つの行を抜いた後に1次元に戻す, rowsはdata数を割り切れる数字\n",
    "def drop_row(data, rows, index): # data must be 1-dim array. rows must be larger than index\n",
    "    shape = data.shape\n",
    "    shape_rev1 = (rows, int(shape[0] / rows), shape[1])\n",
    "    shape_rev2 = (shape[0] - int(shape[0] / rows), shape[1])\n",
    "    drop_index = np.ones(rows,dtype=bool)\n",
    "    drop_index[index] = False\n",
    "    \n",
    "    return data.reshape(shape_rev1)[drop_index].reshape(shape_rev2)"
   ]
  },
  {
   "cell_type": "code",
   "execution_count": 7,
   "metadata": {},
   "outputs": [],
   "source": [
    "#確率密度比の評価関数（KL-Div）\n",
    "def J_prob_ratio(theta, train, test, width):\n",
    "    out = 0\n",
    "    dim = len(train)\n",
    "\n",
    "    for n in range(dim):\n",
    "        out += prob_ratio(theta, test[n], train, width) / dim\n",
    "        - np.log(prob_ratio(theta, train[n], train, width)) / dim\n",
    "    \n",
    "    return out"
   ]
  },
  {
   "cell_type": "code",
   "execution_count": 8,
   "metadata": {},
   "outputs": [],
   "source": [
    "#勾配法によるThetaの更新・評価関数の最適化\n",
    "def iterate_prob(theta, train, test, width, iter_num):\n",
    "    dim = len(train)\n",
    "    for t in range(iter_num):\n",
    "        delta_j_a = np.zeros(dim)\n",
    "        for b in range(dim):\n",
    "            for n in range(dim):\n",
    "                delta_j_a[b] +=  rbf(test[n], train[b], width)\n",
    "\n",
    "        delta_j_b1 = np.zeros(dim)\n",
    "        for b in range(dim):\n",
    "            for n in range(dim):\n",
    "                delta_j_b1[n] += rbf(train[n], train[b], width) * theta[b]\n",
    "\n",
    "        delta_j_b2 = np.zeros(dim)\n",
    "        for b in range(dim):\n",
    "            for n in range(dim):\n",
    "                delta_j_b2[b] += rbf(train[n], train[b], width) / delta_j_b1[n]\n",
    "\n",
    "        delta_j = delta_j_a / dim - delta_j_b2 / dim\n",
    "\n",
    "        theta = theta - mu * delta_j\n",
    "\n",
    "        for b in range(dim):\n",
    "            theta[b] = max(theta[b],0)\n",
    "            \n",
    "    return theta"
   ]
  },
  {
   "cell_type": "code",
   "execution_count": 9,
   "metadata": {},
   "outputs": [],
   "source": [
    "#評価関数が最小になるようなRBF関数バンド幅の探索\n",
    "iter_num = 50\n",
    "\n",
    "J_ratio = np.zeros([num, num_w])\n",
    "\n",
    "for h in range(num_w):\n",
    "    theta = np.random.rand(num, train_dim)\n",
    "    for k in range(num):\n",
    "        train_data = drop_row(normal_data, num, k)\n",
    "        test_data = drop_row(abnormal_data, num, k)\n",
    "\n",
    "        theta[k] = iterate_prob(theta[k], train_data, test_data, width[h], iter_num)\n",
    "        J_ratio[k, h] = J_prob_ratio(theta[k], train_data, test_data, width[h])\n",
    "    \n",
    "h = np.argmin(J_ratio.sum(axis=0))"
   ]
  },
  {
   "cell_type": "code",
   "execution_count": 10,
   "metadata": {},
   "outputs": [
    {
     "data": {
      "text/plain": [
       "<matplotlib.collections.PathCollection at 0x228b86ece80>"
      ]
     },
     "execution_count": 10,
     "metadata": {},
     "output_type": "execute_result"
    },
    {
     "data": {
      "image/png": "[encoded data removed]",
      "text/plain": [
       "<matplotlib.figure.Figure at 0x228b864e400>"
      ]
     },
     "metadata": {},
     "output_type": "display_data"
    }
   ],
   "source": [
    "#バンド幅と評価関数の分布\n",
    "plt.scatter(width, J_ratio.sum(axis=0))"
   ]
  },
  {
   "cell_type": "code",
   "execution_count": 11,
   "metadata": {},
   "outputs": [],
   "source": [
    "#最適なバンド幅を用いて、データ全体で確率密度比の評価をする\n",
    "\n",
    "h = 8 #width < 1 は結果が不安定になる\n",
    "\n",
    "iter_num = 100\n",
    "\n",
    "train_data = normal_data\n",
    "test_data = abnormal_data\n",
    "\n",
    "theta = np.random.rand(len(train_data))\n",
    "\n",
    "theta = iterate_prob(theta, train_data, test_data, width[h], iter_num)"
   ]
  },
  {
   "cell_type": "code",
   "execution_count": 12,
   "metadata": {},
   "outputs": [],
   "source": [
    "#学習済みのThetaを用いて異常値が含まれるデータについて、それぞれのレコードの確率密度比を算出する\n",
    "test_data = abnormal_data\n",
    "dim = len(train_data)\n",
    "r = np.zeros(dim)\n",
    "for n in range(dim):\n",
    "    for b in range(dim):\n",
    "        r[n] += rbf(test_data[n],train_data[b],width[h])*theta[b]"
   ]
  },
  {
   "cell_type": "code",
   "execution_count": 13,
   "metadata": {},
   "outputs": [
    {
     "data": {
      "text/plain": [
       "<matplotlib.axes._subplots.AxesSubplot at 0x228b86dbb00>"
      ]
     },
     "execution_count": 13,
     "metadata": {},
     "output_type": "execute_result"
    },
    {
     "data": {
      "image/png": "[encoded data removed]",
      "text/plain": [
       "<matplotlib.figure.Figure at 0x228b86ff630>"
      ]
     },
     "metadata": {},
     "output_type": "display_data"
    }
   ],
   "source": [
    "#確率密度比の分布\n",
    "sns.distplot(r, kde=False, rug=False, bins=10)"
   ]
  },
  {
   "cell_type": "code",
   "execution_count": 14,
   "metadata": {},
   "outputs": [
    {
     "data": {
      "text/plain": [
       "<matplotlib.collections.PathCollection at 0x228b89d4940>"
      ]
     },
     "execution_count": 14,
     "metadata": {},
     "output_type": "execute_result"
    },
    {
     "data": {
      "image/png": "[encoded data removed]",
      "text/plain": [
       "<matplotlib.figure.Figure at 0x228b898d780>"
      ]
     },
     "metadata": {},
     "output_type": "display_data"
    }
   ],
   "source": [
    "#データ（x軸）と確率密度比の分布\n",
    "plt.scatter(test_data[:,0], r)"
   ]
  },
  {
   "cell_type": "code",
   "execution_count": 15,
   "metadata": {},
   "outputs": [
    {
     "data": {
      "text/plain": [
       "<matplotlib.collections.PathCollection at 0x228b8a2db00>"
      ]
     },
     "execution_count": 15,
     "metadata": {},
     "output_type": "execute_result"
    },
    {
     "data": {
      "image/png": "[encoded data removed]",
      "text/plain": [
       "<matplotlib.figure.Figure at 0x228b89b5eb8>"
      ]
     },
     "metadata": {},
     "output_type": "display_data"
    }
   ],
   "source": [
    "#データ（x軸）と確率密度比の対数の分布\n",
    "#閾値を0.5とすれば、x=4のレコードが異常値と分類できる様子がわかる\n",
    "plt.scatter(test_data[:,0], np.log(r))"
   ]
  },
  {
   "cell_type": "code",
   "execution_count": 16,
   "metadata": {},
   "outputs": [
    {
     "data": {
      "text/plain": [
       "array([6.48459938, 7.68075429, 7.78509907, 3.66398457, 6.3602072 ,\n",
       "       7.92372134, 8.0211234 , 6.21674779, 7.49579521, 8.04046867,\n",
       "       7.41907983, 8.60206866, 5.74235207, 7.49431132, 4.72123314,\n",
       "       8.3585771 , 7.64582763, 8.34277113, 7.79333441, 8.4697997 ,\n",
       "       7.21093961, 6.33921432, 8.50389726, 3.73945667, 5.58623471,\n",
       "       8.75127005, 7.13752243, 7.02529116, 7.53030761, 5.77669276,\n",
       "       5.61441983, 7.80662408, 5.61989872, 5.14694704, 7.87600757,\n",
       "       6.3924362 , 5.09410936, 5.81345992, 8.6016059 , 2.03406025,\n",
       "       7.96222424, 7.85815168, 7.60894835, 7.45094331, 8.38648273,\n",
       "       7.06761193, 8.50988455, 7.59568129, 6.17010823, 7.82580404,\n",
       "       7.41080436, 7.64630647, 3.40925392, 8.21711406, 7.55303259,\n",
       "       8.42133272, 8.59160857, 7.89514903, 6.51221377, 6.60454715,\n",
       "       4.11725991, 5.89680671, 6.55003378, 7.82566745, 7.63322044,\n",
       "       7.38912199, 7.9758087 , 7.74952504, 5.66834411, 6.49023784,\n",
       "       8.4596895 , 6.53480435, 5.48357859, 6.85802877, 7.53902872,\n",
       "       7.60038351, 8.73135961, 7.30758754, 4.74870958, 4.95262216,\n",
       "       4.0071064 , 5.80646679, 6.92729647, 7.70171165, 4.4262033 ,\n",
       "       6.45137868, 8.57177723, 7.84665485, 7.57961591, 8.2044413 ,\n",
       "       8.37805408, 6.64222046, 6.30386762, 8.20750657, 6.52597745,\n",
       "       4.56654589, 7.49382303, 5.94467574, 7.22542251, 0.5342968 ])"
      ]
     },
     "execution_count": 16,
     "metadata": {},
     "output_type": "execute_result"
    }
   ],
   "source": [
    "r"
   ]
  },
  {
   "cell_type": "code",
   "execution_count": null,
   "metadata": {},
   "outputs": [],
   "source": []
  },
  {
   "cell_type": "code",
   "execution_count": null,
   "metadata": {},
   "outputs": [],
   "source": []
  }
 ],
 "metadata": {
  "kernelspec": {
   "display_name": "Python 3",
   "language": "python",
   "name": "python3"
  },
  "language_info": {
   "codemirror_mode": {
    "name": "ipython",
    "version": 3
   },
   "file_extension": ".py",
   "mimetype": "text/x-python",
   "name": "python",
   "nbconvert_exporter": "python",
   "pygments_lexer": "ipython3",
   "version": "3.6.4"
  }
 },
 "nbformat": 4,
 "nbformat_minor": 2
}

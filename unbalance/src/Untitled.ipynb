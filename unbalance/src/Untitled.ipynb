{
 "cells": [
  {
   "cell_type": "code",
   "execution_count": 40,
   "metadata": {},
   "outputs": [],
   "source": [
    "from keras.datasets import mnist\n",
    "import numpy as np\n",
    "from sklearn.metrics import log_loss\n",
    "from sklearn.metrics import average_precision_score as aps\n",
    "from sklearn.metrics import roc_auc_score as auc\n",
    "import lightgbm as lgb\n",
    "import matplotlib.pyplot as plt"
   ]
  },
  {
   "cell_type": "code",
   "execution_count": 28,
   "metadata": {},
   "outputs": [],
   "source": [
    "(X_train, y_train), (X_test, y_test) = mnist.load_data()"
   ]
  },
  {
   "cell_type": "code",
   "execution_count": 29,
   "metadata": {},
   "outputs": [],
   "source": [
    "X_train = x_train.reshape(60000, 784) / 255\n",
    "X_test = x_test.reshape(10000, 784) / 255"
   ]
  },
  {
   "cell_type": "code",
   "execution_count": 30,
   "metadata": {},
   "outputs": [],
   "source": [
    "y_train = (y_train == 0).astype('int')\n",
    "y_test = (y_test == 0).astype('int')"
   ]
  },
  {
   "cell_type": "code",
   "execution_count": 92,
   "metadata": {
    "scrolled": true
   },
   "outputs": [
    {
     "name": "stdout",
     "output_type": "stream",
     "text": [
      "[1]\tvalid_0's binary_logloss: 0.249454\n"
     ]
    }
   ],
   "source": [
    "lgb_train = lgb.Dataset(X_train, y_train)\n",
    "lgb_test = lgb.Dataset(X_test, y_test, reference=lgb_train)\n",
    "\n",
    "lgbm_params = {\n",
    "    'objective': 'binary',\n",
    "    'num_leaves': 5,\n",
    "    'is_unbalance': True,\n",
    "    'verbosity': -1\n",
    "}\n",
    "\n",
    "# 上記のパラメータでモデルを学習する\n",
    "model = lgb.train(lgbm_params, lgb_train, valid_sets=lgb_test, num_boost_round=1)"
   ]
  },
  {
   "cell_type": "code",
   "execution_count": 93,
   "metadata": {},
   "outputs": [],
   "source": [
    "# テストデータを予測する\n",
    "def evals(X, y_true, ctr_train):\n",
    "    y_pred = model.predict(X)\n",
    "    y_pred_post = y_pred / (y_pred  +  (1 - ctr_train) / ctr_train  * (1 - y_pred) )\n",
    "    print('logloss: %.4f' % log_loss(y_true, y_pred))\n",
    "    print('logloss_post: %.4f' % log_loss(y_true, y_pred_post))\n",
    "    print('auc: %.4f' % auc(y_true, y_pred))\n",
    "    print('norm aps:  %.4f' % (aps(y_true, y_pred)/y_true.mean()))"
   ]
  },
  {
   "cell_type": "code",
   "execution_count": 94,
   "metadata": {},
   "outputs": [],
   "source": [
    "ctr_train = np.array(y_train).mean()"
   ]
  },
  {
   "cell_type": "code",
   "execution_count": 95,
   "metadata": {},
   "outputs": [
    {
     "name": "stdout",
     "output_type": "stream",
     "text": [
      "----------\n",
      "logloss: 0.2528\n",
      "logloss_post: 0.3638\n",
      "auc: 0.9526\n",
      "norm aps:  6.7133\n",
      "----------\n",
      "logloss: 0.2495\n",
      "logloss_post: 0.3588\n",
      "auc: 0.9647\n",
      "norm aps:  6.9538\n"
     ]
    }
   ],
   "source": [
    "print('-'*10)\n",
    "evals(X_train, y_train, ctr_train)\n",
    "print('-'*10)\n",
    "evals(X_test, y_test, ctr_train)"
   ]
  },
  {
   "cell_type": "code",
   "execution_count": 96,
   "metadata": {},
   "outputs": [],
   "source": [
    "def gen_plot_points(X, y_true, num_points=50):\n",
    "    y_pred = model.predict(X) \n",
    "    scores = []\n",
    "    ctrs = []\n",
    "    delta = 1 / num_points\n",
    "    for i in range(num_points):\n",
    "        mask = (y_pred >= delta * i) * (y_pred < delta * (i +1))\n",
    "        if mask.sum() > 0:\n",
    "            scores.append(y_pred[mask].mean())\n",
    "            ctrs.append(y_true[mask].mean())\n",
    "    return scores, ctrs"
   ]
  },
  {
   "cell_type": "code",
   "execution_count": 97,
   "metadata": {},
   "outputs": [],
   "source": [
    "scores_train, ctrs_train  =  gen_plot_points(X_train, y_train)\n",
    "scores_test, ctrs_test  =  gen_plot_points(X_test, y_test)"
   ]
  },
  {
   "cell_type": "code",
   "execution_count": 98,
   "metadata": {},
   "outputs": [
    {
     "data": {
      "image/png": "[encoded data removed]",
      "text/plain": [
       "<Figure size 432x288 with 1 Axes>"
      ]
     },
     "metadata": {
      "needs_background": "light"
     },
     "output_type": "display_data"
    }
   ],
   "source": [
    "plt.scatter(scores_train, ctrs_train)\n",
    "plt.scatter(scores_test, ctrs_test)\n",
    "\n",
    "plt.plot([0,1], [0,1])\n",
    "plt.show()"
   ]
  },
  {
   "cell_type": "code",
   "execution_count": 99,
   "metadata": {},
   "outputs": [
    {
     "data": {
      "image/png": "[encoded data removed]",
      "text/plain": [
       "<Figure size 432x288 with 1 Axes>"
      ]
     },
     "metadata": {
      "needs_background": "light"
     },
     "output_type": "display_data"
    }
   ],
   "source": [
    "plt.hist(model.predict(X_train[y_train==0]) , bins=100, label='neg')\n",
    "plt.hist(model.predict(X_train[y_train==1]) , bins=100, label='pos')\n",
    "plt.legend()\n",
    "plt.show()"
   ]
  },
  {
   "cell_type": "code",
   "execution_count": null,
   "metadata": {},
   "outputs": [],
   "source": []
  },
  {
   "cell_type": "code",
   "execution_count": null,
   "metadata": {},
   "outputs": [],
   "source": []
  }
 ],
 "metadata": {
  "kernelspec": {
   "display_name": "Python 3",
   "language": "python",
   "name": "python3"
  },
  "language_info": {
   "codemirror_mode": {
    "name": "ipython",
    "version": 3
   },
   "file_extension": ".py",
   "mimetype": "text/x-python",
   "name": "python",
   "nbconvert_exporter": "python",
   "pygments_lexer": "ipython3",
   "version": "3.7.3"
  }
 },
 "nbformat": 4,
 "nbformat_minor": 2
}

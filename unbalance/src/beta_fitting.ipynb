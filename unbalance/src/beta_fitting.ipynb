{
 "cells": [
  {
   "cell_type": "code",
   "execution_count": 1,
   "metadata": {},
   "outputs": [],
   "source": [
    "import pandas as pd\n",
    "import matplotlib.pyplot as plt\n",
    "import numpy as np\n",
    "\n",
    "from sklearn.model_selection import train_test_split\n",
    "\n",
    "from sklearn.metrics import log_loss\n",
    "from sklearn.metrics import average_precision_score as aps\n",
    "from sklearn.metrics import roc_auc_score as auc\n",
    "\n",
    "import lightgbm as lgb\n",
    "\n",
    "from  scipy.stats import beta"
   ]
  },
  {
   "cell_type": "code",
   "execution_count": 2,
   "metadata": {},
   "outputs": [],
   "source": [
    "df = pd.read_csv('train.csv')"
   ]
  },
  {
   "cell_type": "code",
   "execution_count": 3,
   "metadata": {},
   "outputs": [
    {
     "data": {
      "text/html": [
       "<div>\n",
       "<style scoped>\n",
       "    .dataframe tbody tr th:only-of-type {\n",
       "        vertical-align: middle;\n",
       "    }\n",
       "\n",
       "    .dataframe tbody tr th {\n",
       "        vertical-align: top;\n",
       "    }\n",
       "\n",
       "    .dataframe thead th {\n",
       "        text-align: right;\n",
       "    }\n",
       "</style>\n",
       "<table border=\"1\" class=\"dataframe\">\n",
       "  <thead>\n",
       "    <tr style=\"text-align: right;\">\n",
       "      <th></th>\n",
       "      <th>ID_code</th>\n",
       "      <th>target</th>\n",
       "      <th>var_0</th>\n",
       "      <th>var_1</th>\n",
       "      <th>var_2</th>\n",
       "      <th>var_3</th>\n",
       "      <th>var_4</th>\n",
       "      <th>var_5</th>\n",
       "      <th>var_6</th>\n",
       "      <th>var_7</th>\n",
       "      <th>...</th>\n",
       "      <th>var_190</th>\n",
       "      <th>var_191</th>\n",
       "      <th>var_192</th>\n",
       "      <th>var_193</th>\n",
       "      <th>var_194</th>\n",
       "      <th>var_195</th>\n",
       "      <th>var_196</th>\n",
       "      <th>var_197</th>\n",
       "      <th>var_198</th>\n",
       "      <th>var_199</th>\n",
       "    </tr>\n",
       "  </thead>\n",
       "  <tbody>\n",
       "    <tr>\n",
       "      <th>0</th>\n",
       "      <td>train_0</td>\n",
       "      <td>0</td>\n",
       "      <td>8.9255</td>\n",
       "      <td>-6.7863</td>\n",
       "      <td>11.9081</td>\n",
       "      <td>5.0930</td>\n",
       "      <td>11.4607</td>\n",
       "      <td>-9.2834</td>\n",
       "      <td>5.1187</td>\n",
       "      <td>18.6266</td>\n",
       "      <td>...</td>\n",
       "      <td>4.4354</td>\n",
       "      <td>3.9642</td>\n",
       "      <td>3.1364</td>\n",
       "      <td>1.6910</td>\n",
       "      <td>18.5227</td>\n",
       "      <td>-2.3978</td>\n",
       "      <td>7.8784</td>\n",
       "      <td>8.5635</td>\n",
       "      <td>12.7803</td>\n",
       "      <td>-1.0914</td>\n",
       "    </tr>\n",
       "    <tr>\n",
       "      <th>1</th>\n",
       "      <td>train_1</td>\n",
       "      <td>0</td>\n",
       "      <td>11.5006</td>\n",
       "      <td>-4.1473</td>\n",
       "      <td>13.8588</td>\n",
       "      <td>5.3890</td>\n",
       "      <td>12.3622</td>\n",
       "      <td>7.0433</td>\n",
       "      <td>5.6208</td>\n",
       "      <td>16.5338</td>\n",
       "      <td>...</td>\n",
       "      <td>7.6421</td>\n",
       "      <td>7.7214</td>\n",
       "      <td>2.5837</td>\n",
       "      <td>10.9516</td>\n",
       "      <td>15.4305</td>\n",
       "      <td>2.0339</td>\n",
       "      <td>8.1267</td>\n",
       "      <td>8.7889</td>\n",
       "      <td>18.3560</td>\n",
       "      <td>1.9518</td>\n",
       "    </tr>\n",
       "    <tr>\n",
       "      <th>2</th>\n",
       "      <td>train_2</td>\n",
       "      <td>0</td>\n",
       "      <td>8.6093</td>\n",
       "      <td>-2.7457</td>\n",
       "      <td>12.0805</td>\n",
       "      <td>7.8928</td>\n",
       "      <td>10.5825</td>\n",
       "      <td>-9.0837</td>\n",
       "      <td>6.9427</td>\n",
       "      <td>14.6155</td>\n",
       "      <td>...</td>\n",
       "      <td>2.9057</td>\n",
       "      <td>9.7905</td>\n",
       "      <td>1.6704</td>\n",
       "      <td>1.6858</td>\n",
       "      <td>21.6042</td>\n",
       "      <td>3.1417</td>\n",
       "      <td>-6.5213</td>\n",
       "      <td>8.2675</td>\n",
       "      <td>14.7222</td>\n",
       "      <td>0.3965</td>\n",
       "    </tr>\n",
       "    <tr>\n",
       "      <th>3</th>\n",
       "      <td>train_3</td>\n",
       "      <td>0</td>\n",
       "      <td>11.0604</td>\n",
       "      <td>-2.1518</td>\n",
       "      <td>8.9522</td>\n",
       "      <td>7.1957</td>\n",
       "      <td>12.5846</td>\n",
       "      <td>-1.8361</td>\n",
       "      <td>5.8428</td>\n",
       "      <td>14.9250</td>\n",
       "      <td>...</td>\n",
       "      <td>4.4666</td>\n",
       "      <td>4.7433</td>\n",
       "      <td>0.7178</td>\n",
       "      <td>1.4214</td>\n",
       "      <td>23.0347</td>\n",
       "      <td>-1.2706</td>\n",
       "      <td>-2.9275</td>\n",
       "      <td>10.2922</td>\n",
       "      <td>17.9697</td>\n",
       "      <td>-8.9996</td>\n",
       "    </tr>\n",
       "    <tr>\n",
       "      <th>4</th>\n",
       "      <td>train_4</td>\n",
       "      <td>0</td>\n",
       "      <td>9.8369</td>\n",
       "      <td>-1.4834</td>\n",
       "      <td>12.8746</td>\n",
       "      <td>6.6375</td>\n",
       "      <td>12.2772</td>\n",
       "      <td>2.4486</td>\n",
       "      <td>5.9405</td>\n",
       "      <td>19.2514</td>\n",
       "      <td>...</td>\n",
       "      <td>-1.4905</td>\n",
       "      <td>9.5214</td>\n",
       "      <td>-0.1508</td>\n",
       "      <td>9.1942</td>\n",
       "      <td>13.2876</td>\n",
       "      <td>-1.5121</td>\n",
       "      <td>3.9267</td>\n",
       "      <td>9.5031</td>\n",
       "      <td>17.9974</td>\n",
       "      <td>-8.8104</td>\n",
       "    </tr>\n",
       "  </tbody>\n",
       "</table>\n",
       "<p>5 rows × 202 columns</p>\n",
       "</div>"
      ],
      "text/plain": [
       "   ID_code  target    var_0   var_1    var_2   var_3    var_4   var_5   var_6  \\\n",
       "0  train_0       0   8.9255 -6.7863  11.9081  5.0930  11.4607 -9.2834  5.1187   \n",
       "1  train_1       0  11.5006 -4.1473  13.8588  5.3890  12.3622  7.0433  5.6208   \n",
       "2  train_2       0   8.6093 -2.7457  12.0805  7.8928  10.5825 -9.0837  6.9427   \n",
       "3  train_3       0  11.0604 -2.1518   8.9522  7.1957  12.5846 -1.8361  5.8428   \n",
       "4  train_4       0   9.8369 -1.4834  12.8746  6.6375  12.2772  2.4486  5.9405   \n",
       "\n",
       "     var_7  ...  var_190  var_191  var_192  var_193  var_194  var_195  \\\n",
       "0  18.6266  ...   4.4354   3.9642   3.1364   1.6910  18.5227  -2.3978   \n",
       "1  16.5338  ...   7.6421   7.7214   2.5837  10.9516  15.4305   2.0339   \n",
       "2  14.6155  ...   2.9057   9.7905   1.6704   1.6858  21.6042   3.1417   \n",
       "3  14.9250  ...   4.4666   4.7433   0.7178   1.4214  23.0347  -1.2706   \n",
       "4  19.2514  ...  -1.4905   9.5214  -0.1508   9.1942  13.2876  -1.5121   \n",
       "\n",
       "   var_196  var_197  var_198  var_199  \n",
       "0   7.8784   8.5635  12.7803  -1.0914  \n",
       "1   8.1267   8.7889  18.3560   1.9518  \n",
       "2  -6.5213   8.2675  14.7222   0.3965  \n",
       "3  -2.9275  10.2922  17.9697  -8.9996  \n",
       "4   3.9267   9.5031  17.9974  -8.8104  \n",
       "\n",
       "[5 rows x 202 columns]"
      ]
     },
     "execution_count": 3,
     "metadata": {},
     "output_type": "execute_result"
    }
   ],
   "source": [
    "df.head()"
   ]
  },
  {
   "cell_type": "code",
   "execution_count": 4,
   "metadata": {},
   "outputs": [],
   "source": [
    "feature_list = list(df.columns)\n",
    "feature_list.remove('ID_code')\n",
    "feature_list.remove('target')\n",
    "\n",
    "X = df[feature_list].values\n",
    "y = df['target'].values"
   ]
  },
  {
   "cell_type": "code",
   "execution_count": 5,
   "metadata": {},
   "outputs": [],
   "source": [
    "X_dev, X_test, y_dev, y_test = train_test_split(X, y, test_size = 0.3)\n",
    "X_train, X_val, y_train, y_val = train_test_split(X_dev, y_dev, test_size = 0.2)"
   ]
  },
  {
   "cell_type": "code",
   "execution_count": 6,
   "metadata": {
    "scrolled": true
   },
   "outputs": [
    {
     "name": "stdout",
     "output_type": "stream",
     "text": [
      "[1]\tvalid_0's binary_logloss: 0.32467\n",
      "[2]\tvalid_0's binary_logloss: 0.337414\n",
      "[3]\tvalid_0's binary_logloss: 0.354018\n",
      "[4]\tvalid_0's binary_logloss: 0.370299\n",
      "[5]\tvalid_0's binary_logloss: 0.386621\n",
      "[6]\tvalid_0's binary_logloss: 0.402725\n",
      "[7]\tvalid_0's binary_logloss: 0.417864\n",
      "[8]\tvalid_0's binary_logloss: 0.432294\n",
      "[9]\tvalid_0's binary_logloss: 0.444955\n",
      "[10]\tvalid_0's binary_logloss: 0.456582\n",
      "[11]\tvalid_0's binary_logloss: 0.467495\n",
      "[12]\tvalid_0's binary_logloss: 0.47748\n",
      "[13]\tvalid_0's binary_logloss: 0.486795\n",
      "[14]\tvalid_0's binary_logloss: 0.494333\n",
      "[15]\tvalid_0's binary_logloss: 0.501814\n",
      "[16]\tvalid_0's binary_logloss: 0.508499\n",
      "[17]\tvalid_0's binary_logloss: 0.514777\n",
      "[18]\tvalid_0's binary_logloss: 0.520048\n",
      "[19]\tvalid_0's binary_logloss: 0.52471\n",
      "[20]\tvalid_0's binary_logloss: 0.52854\n",
      "[21]\tvalid_0's binary_logloss: 0.532078\n",
      "[22]\tvalid_0's binary_logloss: 0.534883\n",
      "[23]\tvalid_0's binary_logloss: 0.53722\n",
      "[24]\tvalid_0's binary_logloss: 0.539115\n",
      "[25]\tvalid_0's binary_logloss: 0.540098\n",
      "[26]\tvalid_0's binary_logloss: 0.541369\n",
      "[27]\tvalid_0's binary_logloss: 0.542212\n",
      "[28]\tvalid_0's binary_logloss: 0.542831\n",
      "[29]\tvalid_0's binary_logloss: 0.543754\n",
      "[30]\tvalid_0's binary_logloss: 0.544405\n",
      "[31]\tvalid_0's binary_logloss: 0.544834\n",
      "[32]\tvalid_0's binary_logloss: 0.544865\n",
      "[33]\tvalid_0's binary_logloss: 0.544788\n",
      "[34]\tvalid_0's binary_logloss: 0.544492\n",
      "[35]\tvalid_0's binary_logloss: 0.544311\n",
      "[36]\tvalid_0's binary_logloss: 0.54396\n",
      "[37]\tvalid_0's binary_logloss: 0.543571\n",
      "[38]\tvalid_0's binary_logloss: 0.542869\n",
      "[39]\tvalid_0's binary_logloss: 0.541878\n",
      "[40]\tvalid_0's binary_logloss: 0.540426\n",
      "[41]\tvalid_0's binary_logloss: 0.539508\n",
      "[42]\tvalid_0's binary_logloss: 0.538199\n",
      "[43]\tvalid_0's binary_logloss: 0.537105\n",
      "[44]\tvalid_0's binary_logloss: 0.535623\n",
      "[45]\tvalid_0's binary_logloss: 0.534531\n",
      "[46]\tvalid_0's binary_logloss: 0.533169\n",
      "[47]\tvalid_0's binary_logloss: 0.532097\n",
      "[48]\tvalid_0's binary_logloss: 0.530891\n",
      "[49]\tvalid_0's binary_logloss: 0.529729\n",
      "[50]\tvalid_0's binary_logloss: 0.52862\n",
      "[51]\tvalid_0's binary_logloss: 0.527478\n",
      "[52]\tvalid_0's binary_logloss: 0.526241\n",
      "[53]\tvalid_0's binary_logloss: 0.525016\n",
      "[54]\tvalid_0's binary_logloss: 0.523609\n",
      "[55]\tvalid_0's binary_logloss: 0.522336\n",
      "[56]\tvalid_0's binary_logloss: 0.521139\n",
      "[57]\tvalid_0's binary_logloss: 0.519488\n",
      "[58]\tvalid_0's binary_logloss: 0.517786\n",
      "[59]\tvalid_0's binary_logloss: 0.51635\n",
      "[60]\tvalid_0's binary_logloss: 0.515174\n",
      "[61]\tvalid_0's binary_logloss: 0.514046\n",
      "[62]\tvalid_0's binary_logloss: 0.512627\n",
      "[63]\tvalid_0's binary_logloss: 0.511503\n",
      "[64]\tvalid_0's binary_logloss: 0.51037\n",
      "[65]\tvalid_0's binary_logloss: 0.509195\n",
      "[66]\tvalid_0's binary_logloss: 0.508097\n",
      "[67]\tvalid_0's binary_logloss: 0.506744\n",
      "[68]\tvalid_0's binary_logloss: 0.50542\n",
      "[69]\tvalid_0's binary_logloss: 0.504289\n",
      "[70]\tvalid_0's binary_logloss: 0.50313\n",
      "[71]\tvalid_0's binary_logloss: 0.501974\n",
      "[72]\tvalid_0's binary_logloss: 0.501079\n",
      "[73]\tvalid_0's binary_logloss: 0.49999\n",
      "[74]\tvalid_0's binary_logloss: 0.498508\n",
      "[75]\tvalid_0's binary_logloss: 0.497492\n",
      "[76]\tvalid_0's binary_logloss: 0.49651\n",
      "[77]\tvalid_0's binary_logloss: 0.495368\n",
      "[78]\tvalid_0's binary_logloss: 0.494558\n",
      "[79]\tvalid_0's binary_logloss: 0.493264\n",
      "[80]\tvalid_0's binary_logloss: 0.492218\n",
      "[81]\tvalid_0's binary_logloss: 0.491048\n",
      "[82]\tvalid_0's binary_logloss: 0.489949\n",
      "[83]\tvalid_0's binary_logloss: 0.488775\n",
      "[84]\tvalid_0's binary_logloss: 0.487621\n",
      "[85]\tvalid_0's binary_logloss: 0.486715\n",
      "[86]\tvalid_0's binary_logloss: 0.485864\n",
      "[87]\tvalid_0's binary_logloss: 0.484884\n",
      "[88]\tvalid_0's binary_logloss: 0.483954\n",
      "[89]\tvalid_0's binary_logloss: 0.482994\n",
      "[90]\tvalid_0's binary_logloss: 0.481672\n",
      "[91]\tvalid_0's binary_logloss: 0.480848\n",
      "[92]\tvalid_0's binary_logloss: 0.479766\n",
      "[93]\tvalid_0's binary_logloss: 0.478633\n",
      "[94]\tvalid_0's binary_logloss: 0.477525\n",
      "[95]\tvalid_0's binary_logloss: 0.476372\n",
      "[96]\tvalid_0's binary_logloss: 0.475518\n",
      "[97]\tvalid_0's binary_logloss: 0.474584\n",
      "[98]\tvalid_0's binary_logloss: 0.473749\n",
      "[99]\tvalid_0's binary_logloss: 0.472988\n",
      "[100]\tvalid_0's binary_logloss: 0.472091\n"
     ]
    }
   ],
   "source": [
    "lgb_train = lgb.Dataset(X_train, y_train)\n",
    "lgb_val = lgb.Dataset(X_val, y_val, reference=lgb_train)\n",
    "\n",
    "lgbm_params = {\n",
    "    'objective': 'binary',\n",
    "    'is_unbalance': True,\n",
    "    'num_leaves': 15,\n",
    "}\n",
    "\n",
    "# 上記のパラメータでモデルを学習する\n",
    "model = lgb.train(lgbm_params, lgb_train, valid_sets=lgb_val, num_boost_round=100)"
   ]
  },
  {
   "cell_type": "code",
   "execution_count": 7,
   "metadata": {},
   "outputs": [],
   "source": [
    "ctr_train = np.array(y_train).mean()"
   ]
  },
  {
   "cell_type": "code",
   "execution_count": 8,
   "metadata": {},
   "outputs": [],
   "source": [
    "# テストデータを予測する\n",
    "def evals(X, y_true, ctr_train):\n",
    "    y_pred = model.predict(X)\n",
    "    y_pred_post = y_pred / (y_pred  +  (1 - ctr_train) / ctr_train  * (1 - y_pred) )\n",
    "    print('logloss: %.4f' % log_loss(y_true, y_pred))\n",
    "    print('logloss_post: %.4f' % log_loss(y_true, y_pred_post))\n",
    "    print('auc: %.4f' % auc(y_true, y_pred))\n",
    "    print('norm aps:  %.4f' % (aps(y_true, y_pred)/y_true.mean()))"
   ]
  },
  {
   "cell_type": "code",
   "execution_count": 9,
   "metadata": {},
   "outputs": [
    {
     "name": "stdout",
     "output_type": "stream",
     "text": [
      "----------\n",
      "logloss: 0.4535\n",
      "logloss_post: 0.2334\n",
      "auc: 0.9106\n",
      "norm aps:  6.3434\n",
      "----------\n",
      "logloss: 0.4721\n",
      "logloss_post: 0.2507\n",
      "auc: 0.8548\n",
      "norm aps:  5.0950\n",
      "----------\n",
      "logloss: 0.4728\n",
      "logloss_post: 0.2549\n",
      "auc: 0.8608\n",
      "norm aps:  5.0320\n"
     ]
    }
   ],
   "source": [
    "print('-'*10)\n",
    "evals(X_train, y_train, ctr_train)\n",
    "print('-'*10)\n",
    "evals(X_val, y_val, ctr_train)\n",
    "print('-'*10)\n",
    "evals(X_test, y_test, ctr_train)"
   ]
  },
  {
   "cell_type": "code",
   "execution_count": 10,
   "metadata": {},
   "outputs": [],
   "source": [
    "def gen_plot_points(X, y_true, num_points=100):\n",
    "    y_pred = model.predict(X) \n",
    "    scores = []\n",
    "    ctrs = []\n",
    "    delta = 1 / num_points\n",
    "    for i in range(num_points):\n",
    "        mask = (y_pred >= delta * i) * (y_pred < delta * (i +1))\n",
    "        if mask.sum() > 0:\n",
    "            scores.append(y_pred[mask].mean())\n",
    "            ctrs.append(y_true[mask].mean())\n",
    "    return scores, ctrs"
   ]
  },
  {
   "cell_type": "code",
   "execution_count": 11,
   "metadata": {},
   "outputs": [],
   "source": [
    "scores_train, ctrs_train  =  gen_plot_points(X_train, y_train)\n",
    "scores_val, ctrs_val  =  gen_plot_points(X_val, y_val)\n",
    "scores_test, ctrs_test  =  gen_plot_points(X_test, y_test)"
   ]
  },
  {
   "cell_type": "code",
   "execution_count": 12,
   "metadata": {},
   "outputs": [
    {
     "data": {
      "image/png": "[encoded data removed]",
      "text/plain": [
       "<Figure size 432x288 with 1 Axes>"
      ]
     },
     "metadata": {
      "needs_background": "light"
     },
     "output_type": "display_data"
    }
   ],
   "source": [
    "plt.scatter(scores_train, ctrs_train)\n",
    "plt.scatter(scores_test, ctrs_test)\n",
    "plt.scatter(scores_val, ctrs_val )\n",
    "\n",
    "plt.plot([0,1], [0,1])\n",
    "plt.show()"
   ]
  },
  {
   "cell_type": "code",
   "execution_count": 13,
   "metadata": {},
   "outputs": [],
   "source": [
    "def gen_beta_param(arr):\n",
    "    mean = arr.mean()\n",
    "    var = arr.var()\n",
    "    alpha = mean**2 * (1-mean) / var - mean\n",
    "    beta = (1-mean) / mean * alpha\n",
    "    return alpha, beta"
   ]
  },
  {
   "cell_type": "code",
   "execution_count": 14,
   "metadata": {},
   "outputs": [],
   "source": [
    "a_train_neg, b_train_neg = gen_beta_param(model.predict(X_train[y_train==0]))\n",
    "a_train_pos, b_train_pos = gen_beta_param(model.predict(X_train[y_train==1]))"
   ]
  },
  {
   "cell_type": "code",
   "execution_count": 15,
   "metadata": {},
   "outputs": [
    {
     "data": {
      "image/png": "[encoded data removed]",
      "text/plain": [
       "<Figure size 432x288 with 1 Axes>"
      ]
     },
     "metadata": {
      "needs_background": "light"
     },
     "output_type": "display_data"
    }
   ],
   "source": [
    "plt.hist(model.predict(X_train[y_train==0]) , bins=100, label='neg')\n",
    "plt.hist(model.predict(X_train[y_train==1]) , bins=100, label='pos')\n",
    "plt.legend()\n",
    "plt.show()"
   ]
  },
  {
   "cell_type": "code",
   "execution_count": 16,
   "metadata": {},
   "outputs": [
    {
     "data": {
      "image/png": "[encoded data removed]",
      "text/plain": [
       "<Figure size 432x288 with 1 Axes>"
      ]
     },
     "metadata": {
      "needs_background": "light"
     },
     "output_type": "display_data"
    }
   ],
   "source": [
    "beta_dist_neg = np.random.beta(a_train_neg, b_train_neg, sum(y_train==0))\n",
    "plt.hist(beta_dist_neg , bins=100, label='neg')\n",
    "beta_dist_pos = np.random.beta(a_train_pos, b_train_pos, sum(y_train==1))\n",
    "plt.hist(beta_dist_pos , bins=100, label='pos')\n",
    "plt.legend()\n",
    "plt.show()"
   ]
  },
  {
   "cell_type": "code",
   "execution_count": 17,
   "metadata": {},
   "outputs": [],
   "source": [
    "class BetaFitting():\n",
    "    def __init__(self, model, X_train, y_train):\n",
    "        '''\n",
    "        args:\n",
    "            model:二値分類モデル、 predictで二値分類の予測値が出力される\n",
    "            X_train: modelを学習したときの説明変数\n",
    "            y_train: modelを学習したときの目的変数\n",
    "        '''\n",
    "        self.alpha_pos, self.beta_pos = self.gen_beta_param(model.predict(X_train[y_train==1]))\n",
    "        self.alpha_neg, self.beta_neg = self.gen_beta_param(model.predict(X_train[y_train==0]))\n",
    "        \n",
    "        self.N_neg = sum(y_train == 0)\n",
    "        self.N_pos = sum(y_train == 1)\n",
    "        \n",
    "    def gen_beta_param(self, arr):\n",
    "        '''\n",
    "        ベータ分布のパラメータをalpha, betaを求める。\n",
    "        '''\n",
    "        mean = arr.mean()\n",
    "        var = arr.var()\n",
    "        alpha = mean**2 * (1-mean) / var - mean\n",
    "        beta = (1-mean) / mean * alpha\n",
    "        return alpha, beta\n",
    "        \n",
    "    def fit(self, score):\n",
    "        beta_pos = beta.pdf(score, self.alpha_pos, self.beta_pos)\n",
    "        beta_neg = beta.pdf(score, self.alpha_neg, self.beta_neg)\n",
    "        cal_score = self.N_pos * beta_pos  / (self.N_neg * beta_neg + self.N_pos * beta_pos)\n",
    "        return cal_score\n",
    "    \n",
    "    def fit_arr(self, scores):\n",
    "        cal_list = []\n",
    "        for x in scores:\n",
    "            cal_list.append(self.fit(x))\n",
    "        \n",
    "        return np.array(cal_list)"
   ]
  },
  {
   "cell_type": "code",
   "execution_count": 18,
   "metadata": {},
   "outputs": [],
   "source": [
    "betaFitting = BetaFitting(model, X_train, y_train)"
   ]
  },
  {
   "cell_type": "code",
   "execution_count": 19,
   "metadata": {},
   "outputs": [],
   "source": [
    "cal_scores_train = betaFitting.fit_arr(scores_train)\n",
    "cal_scores_val = betaFitting.fit_arr(scores_val)\n",
    "cal_scores_test = betaFitting.fit_arr(scores_test)"
   ]
  },
  {
   "cell_type": "code",
   "execution_count": 20,
   "metadata": {},
   "outputs": [
    {
     "data": {
      "image/png": "[encoded data removed]",
      "text/plain": [
       "<Figure size 432x288 with 1 Axes>"
      ]
     },
     "metadata": {
      "needs_background": "light"
     },
     "output_type": "display_data"
    }
   ],
   "source": [
    "plt.scatter(cal_scores_train, ctrs_train)\n",
    "plt.scatter(cal_scores_val, ctrs_val)\n",
    "plt.scatter(cal_scores_test, ctrs_test)\n",
    "\n",
    "plt.plot([0,1], [0,1])\n",
    "plt.xlabel('cal_score')\n",
    "plt.ylabel('ratio')\n",
    "plt.show()"
   ]
  },
  {
   "cell_type": "code",
   "execution_count": 21,
   "metadata": {},
   "outputs": [],
   "source": [
    "# テストデータを予測する\n",
    "def evals2(X, y_true, ctr_train):\n",
    "    y_pred = model.predict(X)\n",
    "    y_pred_post = y_pred / (y_pred  +  (1 - ctr_train) / ctr_train  * (1 - y_pred) )\n",
    "    cal_scores = betaFitting.fit_arr(y_pred)\n",
    "    print('logloss: %.4f' % log_loss(y_true, y_pred))\n",
    "    print('logloss_post: %.4f' % log_loss(y_true, y_pred_post))\n",
    "    print('logloss_post_cal: %.4f' % log_loss(y_true, cal_scores))\n",
    "    \n",
    "    print('auc: %.4f' % auc(y_true, y_pred))\n",
    "    print('auc2: %.4f' % auc(y_true, cal_scores))\n",
    "    print('norm aps:  %.4f' % (aps(y_true, y_pred)/y_true.mean()))"
   ]
  },
  {
   "cell_type": "code",
   "execution_count": 22,
   "metadata": {},
   "outputs": [
    {
     "name": "stdout",
     "output_type": "stream",
     "text": [
      "----------\n",
      "logloss: 0.4535\n",
      "logloss_post: 0.2334\n",
      "logloss_post_cal: 0.1952\n",
      "auc: 0.9106\n",
      "auc2: 0.9106\n",
      "norm aps:  6.3434\n",
      "----------\n",
      "logloss: 0.4721\n",
      "logloss_post: 0.2507\n",
      "logloss_post_cal: 0.2371\n",
      "auc: 0.8548\n",
      "auc2: 0.8548\n",
      "norm aps:  5.0950\n",
      "----------\n",
      "logloss: 0.4728\n",
      "logloss_post: 0.2549\n",
      "logloss_post_cal: 0.2381\n",
      "auc: 0.8608\n",
      "auc2: 0.8608\n",
      "norm aps:  5.0320\n"
     ]
    }
   ],
   "source": [
    "print('-'*10)\n",
    "evals2(X_train, y_train, ctr_train)\n",
    "print('-'*10)\n",
    "evals2(X_val, y_val, ctr_train)\n",
    "print('-'*10)\n",
    "evals2(X_test, y_test, ctr_train)"
   ]
  },
  {
   "cell_type": "code",
   "execution_count": 24,
   "metadata": {},
   "outputs": [
    {
     "data": {
      "image/png": "[encoded data removed]",
      "text/plain": [
       "<Figure size 432x288 with 1 Axes>"
      ]
     },
     "metadata": {
      "needs_background": "light"
     },
     "output_type": "display_data"
    }
   ],
   "source": [
    "cal_scores_neg = betaFitting.fit_arr(model.predict(X_train[y_train==0]))\n",
    "cal_scores_pos = betaFitting.fit_arr(model.predict(X_train[y_train==1]))\n",
    "\n",
    "plt.hist(cal_scores_neg , bins=100, label='neg')\n",
    "plt.hist(cal_scores_pos , bins=100, label='pos')\n",
    "plt.legend()\n",
    "plt.show()"
   ]
  },
  {
   "cell_type": "code",
   "execution_count": 25,
   "metadata": {},
   "outputs": [
    {
     "data": {
      "image/png": "[encoded data removed]",
      "text/plain": [
       "<Figure size 432x288 with 1 Axes>"
      ]
     },
     "metadata": {
      "needs_background": "light"
     },
     "output_type": "display_data"
    }
   ],
   "source": [
    "cal_scores_neg = betaFitting.fit_arr(model.predict(X_val[y_val==0]))\n",
    "cal_scores_pos = betaFitting.fit_arr(model.predict(X_val[y_val==1]))\n",
    "\n",
    "plt.hist(cal_scores_neg , bins=100, label='neg')\n",
    "plt.hist(cal_scores_pos , bins=100, label='pos')\n",
    "plt.legend()\n",
    "plt.show()"
   ]
  },
  {
   "cell_type": "code",
   "execution_count": 26,
   "metadata": {},
   "outputs": [
    {
     "data": {
      "image/png": "[encoded data removed]",
      "text/plain": [
       "<Figure size 432x288 with 1 Axes>"
      ]
     },
     "metadata": {
      "needs_background": "light"
     },
     "output_type": "display_data"
    }
   ],
   "source": [
    "plt.hist(cal_scores_neg , bins=100, label='neg')\n",
    "plt.hist(cal_scores_pos , bins=100, label='pos')\n",
    "plt.ylim(0, 100)\n",
    "plt.legend()\n",
    "plt.show()"
   ]
  },
  {
   "cell_type": "code",
   "execution_count": null,
   "metadata": {},
   "outputs": [],
   "source": []
  },
  {
   "cell_type": "code",
   "execution_count": null,
   "metadata": {},
   "outputs": [],
   "source": []
  },
  {
   "cell_type": "code",
   "execution_count": null,
   "metadata": {},
   "outputs": [],
   "source": []
  },
  {
   "cell_type": "code",
   "execution_count": 25,
   "metadata": {},
   "outputs": [
    {
     "data": {
      "image/png": "[encoded data removed]",
      "text/plain": [
       "<Figure size 432x288 with 1 Axes>"
      ]
     },
     "metadata": {
      "needs_background": "light"
     },
     "output_type": "display_data"
    }
   ],
   "source": [
    "plt.scatter(scores_train, ctrs_train)\n",
    "plt.scatter(cal_score_list, ctrs_train)\n",
    "\n",
    "plt.plot([0,1], [0,1])\n",
    "plt.xlabel('score')\n",
    "plt.ylabel('ratio')\n",
    "plt.show()"
   ]
  },
  {
   "cell_type": "code",
   "execution_count": null,
   "metadata": {},
   "outputs": [],
   "source": [
    "N = 100\n",
    "ratio_list = []\n",
    "for i in range(N):\n",
    "    x = (i+1)/N\n",
    "    N_neg = sum(y_train == 0)\n",
    "    N_pos = sum(y_train == 1)\n",
    "\n",
    "    ratio = N_pos * beta.pdf(x, a_train_pos, b_train_pos)  / (N_neg * beta.pdf(x, a_train_neg, b_train_neg) + N_pos * beta.pdf(x, a_train_pos, b_train_pos) )\n",
    "    ratio_list.append(ratio)"
   ]
  },
  {
   "cell_type": "code",
   "execution_count": 47,
   "metadata": {},
   "outputs": [
    {
     "data": {
      "image/png": "[encoded data removed]",
      "text/plain": [
       "<Figure size 432x288 with 1 Axes>"
      ]
     },
     "metadata": {
      "needs_background": "light"
     },
     "output_type": "display_data"
    }
   ],
   "source": [
    "a_val_neg, b_val_neg = gen_beta_param(model.predict(X_val[y_val==0]))\n",
    "a_val_pos, b_val_pos = gen_beta_param(model.predict(X_val[y_val==1]))\n",
    "\n",
    "beta_dist_neg = np.random.beta(a_val_neg, b_val_neg, sum(y_val==0))\n",
    "plt.hist(beta_dist_neg , bins=100, label='neg')\n",
    "beta_dist_pos = np.random.beta(a_val_pos, b_val_pos, sum(y_val==1))\n",
    "plt.hist(beta_dist_pos , bins=100, label='pos')\n",
    "plt.legend()\n",
    "plt.show()"
   ]
  },
  {
   "cell_type": "code",
   "execution_count": 48,
   "metadata": {},
   "outputs": [
    {
     "data": {
      "image/png": "[encoded data removed]",
      "text/plain": [
       "<Figure size 432x288 with 1 Axes>"
      ]
     },
     "metadata": {
      "needs_background": "light"
     },
     "output_type": "display_data"
    }
   ],
   "source": [
    "plt.hist(model.predict(X_val[y_val==0]) , bins=100, label='neg')\n",
    "plt.hist(model.predict(X_val[y_val==1]) , bins=100, label='pos')\n",
    "plt.legend()\n",
    "plt.show()"
   ]
  },
  {
   "cell_type": "code",
   "execution_count": 17,
   "metadata": {},
   "outputs": [
    {
     "data": {
      "image/png": "[encoded data removed]",
      "text/plain": [
       "<Figure size 432x288 with 1 Axes>"
      ]
     },
     "metadata": {
      "needs_background": "light"
     },
     "output_type": "display_data"
    }
   ],
   "source": [
    "plt.hist(model.predict(X_val[y_val==0]) , bins=100, label='neg')\n",
    "plt.hist(model.predict(X_val[y_val==1]) , bins=100, label='pos')\n",
    "plt.ylim(0, 100)\n",
    "plt.legend()\n",
    "plt.show()"
   ]
  },
  {
   "cell_type": "code",
   "execution_count": 18,
   "metadata": {},
   "outputs": [
    {
     "data": {
      "image/png": "[encoded data removed]",
      "text/plain": [
       "<Figure size 432x288 with 1 Axes>"
      ]
     },
     "metadata": {
      "needs_background": "light"
     },
     "output_type": "display_data"
    }
   ],
   "source": [
    "plt.hist(model.predict(X_val) , bins=100)\n",
    "plt.show()"
   ]
  },
  {
   "cell_type": "code",
   "execution_count": 19,
   "metadata": {},
   "outputs": [
    {
     "data": {
      "image/png": "[encoded data removed]",
      "text/plain": [
       "<Figure size 432x288 with 1 Axes>"
      ]
     },
     "metadata": {
      "needs_background": "light"
     },
     "output_type": "display_data"
    }
   ],
   "source": [
    "plt.hist(model.predict(X_train) , bins=100)\n",
    "plt.hist(model.predict(X_test) , bins=100)\n",
    "plt.hist(model.predict(X_val) , bins=100)\n",
    "plt.show()"
   ]
  },
  {
   "cell_type": "code",
   "execution_count": 20,
   "metadata": {},
   "outputs": [],
   "source": [
    "def post(scores, ctr_train):\n",
    "    s_prev = np.array(scores)\n",
    "    return s_prev / (s_prev  +  (1 - ctr_train) / ctr_train  * (1 - s_prev) )"
   ]
  },
  {
   "cell_type": "code",
   "execution_count": 21,
   "metadata": {},
   "outputs": [],
   "source": [
    "s_post_train = post(scores_train, ctr_train)\n",
    "s_post_val = post(scores_val, ctr_train)\n",
    "s_post_test = post(scores_test, ctr_train)"
   ]
  },
  {
   "cell_type": "code",
   "execution_count": 22,
   "metadata": {},
   "outputs": [
    {
     "data": {
      "image/png": "[encoded data removed]",
      "text/plain": [
       "<Figure size 432x288 with 1 Axes>"
      ]
     },
     "metadata": {
      "needs_background": "light"
     },
     "output_type": "display_data"
    }
   ],
   "source": [
    "plt.scatter(s_post_train, ctrs_train)\n",
    "plt.scatter(s_post_test, ctrs_test)\n",
    "plt.scatter(s_post_val, ctrs_val )\n",
    "\n",
    "plt.plot([0,1], [0,1])\n",
    "plt.show()"
   ]
  },
  {
   "cell_type": "code",
   "execution_count": null,
   "metadata": {},
   "outputs": [],
   "source": []
  },
  {
   "cell_type": "code",
   "execution_count": null,
   "metadata": {},
   "outputs": [],
   "source": []
  }
 ],
 "metadata": {
  "kernelspec": {
   "display_name": "Python 3",
   "language": "python",
   "name": "python3"
  },
  "language_info": {
   "codemirror_mode": {
    "name": "ipython",
    "version": 3
   },
   "file_extension": ".py",
   "mimetype": "text/x-python",
   "name": "python",
   "nbconvert_exporter": "python",
   "pygments_lexer": "ipython3",
   "version": "3.7.3"
  }
 },
 "nbformat": 4,
 "nbformat_minor": 2
}
